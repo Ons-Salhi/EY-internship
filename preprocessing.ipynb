{
 "cells": [
  {
   "cell_type": "code",
   "execution_count": 1,
   "metadata": {},
   "outputs": [],
   "source": [
    "import unicodedata\n",
    "import re"
   ]
  },
  {
   "cell_type": "code",
   "execution_count": 3,
   "metadata": {},
   "outputs": [],
   "source": [
    "import requests\n",
    "import csv"
   ]
  },
  {
   "cell_type": "code",
   "execution_count": 5,
   "metadata": {},
   "outputs": [],
   "source": [
    "def remove_arabic_chars(input_file, output_file):\n",
    "    with open('./TOTALtraduit.csv', encoding='utf-8') as file_in, \\\n",
    "            open(output_file, 'w', newline='', encoding='utf-8') as file_out:\n",
    "        reader = csv.reader(file_in)\n",
    "        writer = csv.writer(file_out)\n",
    "        for row in reader:\n",
    "            new_row = []\n",
    "            for cell in row:\n",
    "                cell = re.sub(r'[\\u0600-\\u06FF]+', '', cell)  # remove Arabic characters\n",
    "                new_row.append(cell)\n",
    "            writer.writerow(new_row)\n",
    "remove_arabic_chars('./TOTALtraduit.csv', 'removear.csv')            "
   ]
  },
  {
   "cell_type": "code",
   "execution_count": 7,
   "metadata": {},
   "outputs": [],
   "source": [
    "def remove_emojis(input_file, output_file):\n",
    "    with open('removear.csv', encoding='utf-8') as file_in, \\\n",
    "            open(output_file, 'w', newline='', encoding='utf-8') as file_out:\n",
    "        reader = csv.reader(file_in)\n",
    "        writer = csv.writer(file_out)\n",
    "        for row in reader:\n",
    "            new_row = []\n",
    "            for cell in row:\n",
    "                cell = re.sub(r'[^\\w\\s,]', '', cell)  # remove emojis\n",
    "                new_row.append(cell)\n",
    "            writer.writerow(new_row)\n",
    "remove_emojis('removear.csv','removeemojis.csv')              "
   ]
  }
 ],
 "metadata": {
  "kernelspec": {
   "display_name": "Python 3",
   "language": "python",
   "name": "python3"
  },
  "language_info": {
   "codemirror_mode": {
    "name": "ipython",
    "version": 3
   },
   "file_extension": ".py",
   "mimetype": "text/x-python",
   "name": "python",
   "nbconvert_exporter": "python",
   "pygments_lexer": "ipython3",
   "version": "3.10.7"
  },
  "orig_nbformat": 4
 },
 "nbformat": 4,
 "nbformat_minor": 2
}
