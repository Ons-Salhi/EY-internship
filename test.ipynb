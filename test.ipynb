{
 "cells": [
  {
   "cell_type": "markdown",
   "metadata": {},
   "source": [
    "# Test 1"
   ]
  },
  {
   "cell_type": "code",
   "execution_count": 1,
   "metadata": {},
   "outputs": [
    {
     "name": "stderr",
     "output_type": "stream",
     "text": [
      "c:\\Users\\Salhi\\AppData\\Local\\Programs\\Python\\Python310\\lib\\site-packages\\requests\\__init__.py:89: RequestsDependencyWarning: urllib3 (1.26.14) or chardet (3.0.4) doesn't match a supported version!\n",
      "  warnings.warn(\"urllib3 ({}) or chardet ({}) doesn't match a supported \"\n"
     ]
    },
    {
     "name": "stdout",
     "output_type": "stream",
     "text": [
      "finished importing\n"
     ]
    }
   ],
   "source": [
    "# importing libraries and packages for this project\n",
    "\n",
    "from selenium import webdriver\n",
    "from selenium.webdriver.common.keys import Keys\n",
    "from selenium.webdriver.common.by import By\n",
    "import time\n",
    "import requests\n",
    "from bs4 import BeautifulSoup\n",
    "\n",
    "print('finished importing')"
   ]
  },
  {
   "attachments": {},
   "cell_type": "markdown",
   "metadata": {},
   "source": [
    "# Step 1 : login to linkedin"
   ]
  },
  {
   "cell_type": "code",
   "execution_count": 2,
   "metadata": {},
   "outputs": [
    {
     "name": "stdout",
     "output_type": "stream",
     "text": [
      "Finished initializing a driver\n"
     ]
    }
   ],
   "source": [
    "# Access linkedin and login \n",
    "driver = webdriver.Edge()\n",
    "url = 'https://www.linkedin.com/login'\n",
    "driver.get(url)\n",
    "print('Finished initializing a driver')\n",
    "time.sleep(1)\n",
    "\n"
   ]
  },
  {
   "cell_type": "code",
   "execution_count": 3,
   "metadata": {},
   "outputs": [
    {
     "name": "stdout",
     "output_type": "stream",
     "text": [
      "Finished importing login credentials\n",
      "Finished entering email\n",
      "Finished entering password\n",
      "Successfully logged in!\n"
     ]
    }
   ],
   "source": [
    "# Import username and password\n",
    "credential = open('login_credential.txt')\n",
    "line = credential.readlines()\n",
    "username = line[0]\n",
    "password = line[1]\n",
    "print('Finished importing login credentials')\n",
    "\n",
    "# Enter your username\n",
    "email_field = driver.find_element(By.ID,'username').send_keys(username + Keys.ENTER)\n",
    "print('Finished entering email')\n",
    "time.sleep(2)\n",
    "\n",
    "# Enter your password\n",
    "password_field = driver.find_element(By.NAME,'session_password').send_keys(password)\n",
    "print('Finished entering password')\n",
    "time.sleep(1)\n",
    "\n",
    "# Click login button\n",
    "login_field = driver.find_element(By.XPATH,'//*[@id=\"organic-div\"]/form/div[3]/button[1]')\n",
    "login_field.click()\n",
    "print('Successfully logged in!')\n",
    "time.sleep(2)"
   ]
  },
  {
   "attachments": {},
   "cell_type": "markdown",
   "metadata": {},
   "source": [
    "# Step 3"
   ]
  },
  {
   "cell_type": "code",
   "execution_count": 4,
   "metadata": {},
   "outputs": [],
   "source": [
    "import urllib\n",
    "\n",
    "search_query ='data science'\n",
    "profile_to_find = urllib.parse.quote(search_query)\n",
    "\n",
    "url = 'https://www.linkedin.com/search/results/people/?keywords='+profile_to_find+'&origin=SWITCH_SEARCH_VERTICAL&page='\n",
    "\n",
    "number_of_pages=2\n",
    "\n",
    "\n"
   ]
  },
  {
   "cell_type": "code",
   "execution_count": 5,
   "metadata": {},
   "outputs": [
    {
     "name": "stdout",
     "output_type": "stream",
     "text": [
      "going to page 1\n",
      "going to page 2\n"
     ]
    }
   ],
   "source": [
    "import collections\n",
    "collections.Callable = collections.abc.Callable\n",
    "links=[]\n",
    "def extract_links(i):\n",
    "    url = 'https://www.linkedin.com/search/results/people/?keywords='+profile_to_find+'&origin=SWITCH_SEARCH_VERTICAL&page='+str(i)\n",
    "    driver.get(url)\n",
    "    time.sleep(1)\n",
    "    profiles = driver.find_elements(By.CLASS_NAME,'app-aware-link')\n",
    "    profile_links = []\n",
    "    for profile in profiles:\n",
    "        profile_links.append(profile.get_attribute(\"href\"))\n",
    "    for link in profile_links:\n",
    "        links.append(link)\n",
    "for i in range(1,number_of_pages+1):\n",
    "    time.sleep(4)\n",
    "    extract_links(i)\n",
    "    print('going to page '+str(i))\n",
    "l=set(links)\n",
    "\n",
    "file = open('links.txt','w')\n",
    "for item in l:\n",
    "    if ('www.linkedin.com/in/' in item):\n",
    "\t    file.write(item+\"\\n\")\n",
    "file.close()\n"
   ]
  },
  {
   "attachments": {},
   "cell_type": "markdown",
   "metadata": {},
   "source": [
    "# Step 4"
   ]
  },
  {
   "cell_type": "code",
   "execution_count": 76,
   "metadata": {},
   "outputs": [
    {
     "ename": "WebDriverException",
     "evalue": "Message: disconnected: not connected to DevTools\n  (failed to check if window was closed: disconnected: not connected to DevTools)\n  (Session info: MicrosoftEdge=110.0.1587.63)\nStacktrace:\nBacktrace:\n\tMicrosoft::Applications::Events::EventProperties::SetProperty [0x00007FF6E4F348E2+14722]\n\tMicrosoft::Applications::Events::EventProperty::EventProperty [0x00007FF6E4ECB972+817410]\n\t(No symbol) [0x00007FF6E4B5DB50]\n\t(No symbol) [0x00007FF6E4B49203]\n\t(No symbol) [0x00007FF6E4B48FC0]\n\t(No symbol) [0x00007FF6E4B5F3B1]\n\t(No symbol) [0x00007FF6E4BD8F8F]\n\t(No symbol) [0x00007FF6E4BC0343]\n\t(No symbol) [0x00007FF6E4B91FFC]\n\t(No symbol) [0x00007FF6E4B90F7E]\n\t(No symbol) [0x00007FF6E4B927EE]\n\tMicrosoft::Applications::Events::EventProperties::SetProperty [0x00007FF6E4DAF580+181072]\n\t(No symbol) [0x00007FF6E4C607F7]\n\tMicrosoft::Applications::Events::EventProperty::EventProperty [0x00007FF6E4E10252+49634]\n\tMicrosoft::Applications::Events::EventProperty::EventProperty [0x00007FF6E4E13455+62437]\n\tMicrosoft::Applications::Events::ILogManager::DispatchEventBroadcast [0x00007FF6E5122018+1407928]\n\tMicrosoft::Applications::Events::EventProperty::EventProperty [0x00007FF6E4ED3E7F+851471]\n\tMicrosoft::Applications::Events::EventProperty::EventProperty [0x00007FF6E4ED8EE4+872052]\n\tMicrosoft::Applications::Events::EventProperty::EventProperty [0x00007FF6E4ED903C+872396]\n\tMicrosoft::Applications::Events::EventProperty::EventProperty [0x00007FF6E4EE134B+905947]\n\tBaseThreadInitThunk [0x00007FF825ED26BD+29]\n\tRtlUserThreadStart [0x00007FF8261ADFB8+40]\n",
     "output_type": "error",
     "traceback": [
      "\u001b[1;31m---------------------------------------------------------------------------\u001b[0m",
      "\u001b[1;31mWebDriverException\u001b[0m                        Traceback (most recent call last)",
      "Cell \u001b[1;32mIn [76], line 8\u001b[0m\n\u001b[0;32m      5\u001b[0m     link \u001b[39m=\u001b[39m f\u001b[39m.\u001b[39mreadlines()\n\u001b[0;32m      6\u001b[0m \u001b[39mfor\u001b[39;00m i \u001b[39min\u001b[39;00m link:\n\u001b[1;32m----> 8\u001b[0m     driver\u001b[39m.\u001b[39;49mget(i)\n\u001b[0;32m      9\u001b[0m     time\u001b[39m.\u001b[39msleep(\u001b[39m3\u001b[39m)\n\u001b[0;32m     10\u001b[0m     name \u001b[39m=\u001b[39m driver\u001b[39m.\u001b[39mfind_element(By\u001b[39m.\u001b[39mXPATH, \u001b[39m'\u001b[39m\u001b[39m//h1[@class=\u001b[39m\u001b[39m\"\u001b[39m\u001b[39mtext-heading-xlarge inline t-24 v-align-middle break-words\u001b[39m\u001b[39m\"\u001b[39m\u001b[39m]\u001b[39m\u001b[39m'\u001b[39m)\n",
      "File \u001b[1;32mc:\\Users\\Salhi\\AppData\\Local\\Programs\\Python\\Python310\\lib\\site-packages\\selenium\\webdriver\\remote\\webdriver.py:455\u001b[0m, in \u001b[0;36mWebDriver.get\u001b[1;34m(self, url)\u001b[0m\n\u001b[0;32m    451\u001b[0m \u001b[39mdef\u001b[39;00m \u001b[39mget\u001b[39m(\u001b[39mself\u001b[39m, url: \u001b[39mstr\u001b[39m) \u001b[39m-\u001b[39m\u001b[39m>\u001b[39m \u001b[39mNone\u001b[39;00m:\n\u001b[0;32m    452\u001b[0m     \u001b[39m\"\"\"\u001b[39;00m\n\u001b[0;32m    453\u001b[0m \u001b[39m    Loads a web page in the current browser session.\u001b[39;00m\n\u001b[0;32m    454\u001b[0m \u001b[39m    \"\"\"\u001b[39;00m\n\u001b[1;32m--> 455\u001b[0m     \u001b[39mself\u001b[39;49m\u001b[39m.\u001b[39;49mexecute(Command\u001b[39m.\u001b[39;49mGET, {\u001b[39m\"\u001b[39;49m\u001b[39murl\u001b[39;49m\u001b[39m\"\u001b[39;49m: url})\n",
      "File \u001b[1;32mc:\\Users\\Salhi\\AppData\\Local\\Programs\\Python\\Python310\\lib\\site-packages\\selenium\\webdriver\\remote\\webdriver.py:444\u001b[0m, in \u001b[0;36mWebDriver.execute\u001b[1;34m(self, driver_command, params)\u001b[0m\n\u001b[0;32m    442\u001b[0m response \u001b[39m=\u001b[39m \u001b[39mself\u001b[39m\u001b[39m.\u001b[39mcommand_executor\u001b[39m.\u001b[39mexecute(driver_command, params)\n\u001b[0;32m    443\u001b[0m \u001b[39mif\u001b[39;00m response:\n\u001b[1;32m--> 444\u001b[0m     \u001b[39mself\u001b[39;49m\u001b[39m.\u001b[39;49merror_handler\u001b[39m.\u001b[39;49mcheck_response(response)\n\u001b[0;32m    445\u001b[0m     response[\u001b[39m\"\u001b[39m\u001b[39mvalue\u001b[39m\u001b[39m\"\u001b[39m] \u001b[39m=\u001b[39m \u001b[39mself\u001b[39m\u001b[39m.\u001b[39m_unwrap_value(response\u001b[39m.\u001b[39mget(\u001b[39m\"\u001b[39m\u001b[39mvalue\u001b[39m\u001b[39m\"\u001b[39m, \u001b[39mNone\u001b[39;00m))\n\u001b[0;32m    446\u001b[0m     \u001b[39mreturn\u001b[39;00m response\n",
      "File \u001b[1;32mc:\\Users\\Salhi\\AppData\\Local\\Programs\\Python\\Python310\\lib\\site-packages\\selenium\\webdriver\\remote\\errorhandler.py:249\u001b[0m, in \u001b[0;36mErrorHandler.check_response\u001b[1;34m(self, response)\u001b[0m\n\u001b[0;32m    247\u001b[0m         alert_text \u001b[39m=\u001b[39m value[\u001b[39m\"\u001b[39m\u001b[39malert\u001b[39m\u001b[39m\"\u001b[39m]\u001b[39m.\u001b[39mget(\u001b[39m\"\u001b[39m\u001b[39mtext\u001b[39m\u001b[39m\"\u001b[39m)\n\u001b[0;32m    248\u001b[0m     \u001b[39mraise\u001b[39;00m exception_class(message, screen, stacktrace, alert_text)  \u001b[39m# type: ignore[call-arg]  # mypy is not smart enough here\u001b[39;00m\n\u001b[1;32m--> 249\u001b[0m \u001b[39mraise\u001b[39;00m exception_class(message, screen, stacktrace)\n",
      "\u001b[1;31mWebDriverException\u001b[0m: Message: disconnected: not connected to DevTools\n  (failed to check if window was closed: disconnected: not connected to DevTools)\n  (Session info: MicrosoftEdge=110.0.1587.63)\nStacktrace:\nBacktrace:\n\tMicrosoft::Applications::Events::EventProperties::SetProperty [0x00007FF6E4F348E2+14722]\n\tMicrosoft::Applications::Events::EventProperty::EventProperty [0x00007FF6E4ECB972+817410]\n\t(No symbol) [0x00007FF6E4B5DB50]\n\t(No symbol) [0x00007FF6E4B49203]\n\t(No symbol) [0x00007FF6E4B48FC0]\n\t(No symbol) [0x00007FF6E4B5F3B1]\n\t(No symbol) [0x00007FF6E4BD8F8F]\n\t(No symbol) [0x00007FF6E4BC0343]\n\t(No symbol) [0x00007FF6E4B91FFC]\n\t(No symbol) [0x00007FF6E4B90F7E]\n\t(No symbol) [0x00007FF6E4B927EE]\n\tMicrosoft::Applications::Events::EventProperties::SetProperty [0x00007FF6E4DAF580+181072]\n\t(No symbol) [0x00007FF6E4C607F7]\n\tMicrosoft::Applications::Events::EventProperty::EventProperty [0x00007FF6E4E10252+49634]\n\tMicrosoft::Applications::Events::EventProperty::EventProperty [0x00007FF6E4E13455+62437]\n\tMicrosoft::Applications::Events::ILogManager::DispatchEventBroadcast [0x00007FF6E5122018+1407928]\n\tMicrosoft::Applications::Events::EventProperty::EventProperty [0x00007FF6E4ED3E7F+851471]\n\tMicrosoft::Applications::Events::EventProperty::EventProperty [0x00007FF6E4ED8EE4+872052]\n\tMicrosoft::Applications::Events::EventProperty::EventProperty [0x00007FF6E4ED903C+872396]\n\tMicrosoft::Applications::Events::EventProperty::EventProperty [0x00007FF6E4EE134B+905947]\n\tBaseThreadInitThunk [0x00007FF825ED26BD+29]\n\tRtlUserThreadStart [0x00007FF8261ADFB8+40]\n"
     ]
    }
   ],
   "source": [
    "with open('test.txt','w',encoding='utf-8') as t:\n",
    "\n",
    "    with open('items.txt', 'r',encoding='utf-8') as f:\n",
    "        # Read the first line in the file\n",
    "        link = f.readlines()\n",
    "    for i in link:\n",
    "       \n",
    "        driver.get(i)\n",
    "        time.sleep(3)\n",
    "        name = driver.find_element(By.XPATH, '//h1[@class=\"text-heading-xlarge inline t-24 v-align-middle break-words\"]')\n",
    "        try:\n",
    "            for i in name:\n",
    "                t.write(i.get_attribute('innerHTML'))\n",
    "        except:\n",
    "            t.write(name.get_attribute('innerHTML'))\n",
    "\n",
    "        time.sleep(2)\n",
    "\n",
    "        location = driver.find_elements(By.XPATH, '//span[@class=\"text-body-small inline t-black--light break-words\"]')\n",
    "        try:\n",
    "            for i in location:\n",
    "                t.write(i.get_attribute('innerHTML'))\n",
    "        except:\n",
    "            t.write(location.get_attribute('innerHTML'))   \n",
    "\n",
    "        time.sleep(1)\n",
    "\n",
    "        title = driver.find_elements(By.XPATH, '//div[@class=\"text-body-medium break-words\"]')\n",
    "        try:\n",
    "            for i in title:\n",
    "                t.write(i.get_attribute('innerHTML'))\n",
    "        except:\n",
    "            t.write(title.get_attribute('innerHTML'))\n",
    "\n",
    "            time.sleep(1)\n",
    "\n",
    "        experience_info = driver.find_elements(By.XPATH, '//section[@class=\"artdeco-card ember-view relative break-words pb3 mt2 \"]')\n",
    "        try:\n",
    "            for i in experience_info:\n",
    "                t.write(i.text)\n",
    "        except:\n",
    "            t.write(experience_info.get_attribute('outerHTML'))  \n",
    "        t.write('\\n__________________________________________\\n')  \n",
    "           \n"
   ]
  },
  {
   "cell_type": "code",
   "execution_count": 44,
   "metadata": {},
   "outputs": [],
   "source": [
    "with open('test.txt','r',encoding='utf-8') as f:\n",
    "    lines = f.readlines()\n",
    "\n",
    "    output = [lines[0]]\n",
    "\n",
    "    # iterate over the lines and compare each line with its successor\n",
    "    for i in range(1, len(lines)):\n",
    "        if lines[i] != lines[i-1]:\n",
    "            # add the line to the output list if it's different from its predecessor\n",
    "            output.append(lines[i])\n",
    "\n",
    "# write the output list to a new file\n",
    "with open('final_info.txt', 'w',encoding='utf-8') as f:\n",
    "    f.writelines(output)"
   ]
  }
 ],
 "metadata": {
  "kernelspec": {
   "display_name": "Python 3",
   "language": "python",
   "name": "python3"
  },
  "language_info": {
   "codemirror_mode": {
    "name": "ipython",
    "version": 3
   },
   "file_extension": ".py",
   "mimetype": "text/x-python",
   "name": "python",
   "nbconvert_exporter": "python",
   "pygments_lexer": "ipython3",
   "version": "3.10.7"
  },
  "orig_nbformat": 4,
  "vscode": {
   "interpreter": {
    "hash": "f4ccad92a19cc290665e10b2e63bd0eff5d3aa8feca05732615aaf4cf68253bf"
   }
  }
 },
 "nbformat": 4,
 "nbformat_minor": 2
}
