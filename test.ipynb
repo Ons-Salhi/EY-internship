{
 "cells": [
  {
   "cell_type": "markdown",
   "metadata": {},
   "source": [
    "# Test 1"
   ]
  },
  {
   "cell_type": "code",
   "execution_count": 50,
   "metadata": {},
   "outputs": [
    {
     "name": "stdout",
     "output_type": "stream",
     "text": [
      "finished importing\n"
     ]
    }
   ],
   "source": [
    "# importing libraries and packages for this project\n",
    "\n",
    "from selenium import webdriver\n",
    "from selenium.webdriver.common.keys import Keys\n",
    "from selenium.webdriver.common.by import By\n",
    "import time\n",
    "\n",
    "print('finished importing')"
   ]
  },
  {
   "attachments": {},
   "cell_type": "markdown",
   "metadata": {},
   "source": [
    "# Step 1 : login to linkedin"
   ]
  },
  {
   "cell_type": "code",
   "execution_count": 89,
   "metadata": {},
   "outputs": [
    {
     "name": "stdout",
     "output_type": "stream",
     "text": [
      "Finished initializing a driver\n"
     ]
    }
   ],
   "source": [
    "# Access linkedin and login \n",
    "driver = webdriver.Edge()\n",
    "url = 'https://www.linkedin.com/login'\n",
    "driver.get(url)\n",
    "print('Finished initializing a driver')\n",
    "time.sleep(1)\n",
    "\n"
   ]
  },
  {
   "cell_type": "code",
   "execution_count": 90,
   "metadata": {},
   "outputs": [
    {
     "name": "stdout",
     "output_type": "stream",
     "text": [
      "Finished importing login credentials\n",
      "Finished entering email\n",
      "Finished entering password\n",
      "Successfully logged in!\n"
     ]
    }
   ],
   "source": [
    "# Import username and password\n",
    "credential = open('login_credential.txt')\n",
    "line = credential.readlines()\n",
    "username = line[0]\n",
    "password = line[1]\n",
    "print('Finished importing login credentials')\n",
    "\n",
    "# Enter your username\n",
    "email_field = driver.find_element(By.ID,'username').send_keys(username + Keys.ENTER)\n",
    "print('Finished entering email')\n",
    "time.sleep(2)\n",
    "\n",
    "# Enter your password\n",
    "password_field = driver.find_element(By.NAME,'session_password').send_keys(password)\n",
    "print('Finished entering password')\n",
    "time.sleep(1)\n",
    "\n",
    "# Click login button\n",
    "login_field = driver.find_element(By.XPATH,'//*[@id=\"organic-div\"]/form/div[3]/button[1]')\n",
    "login_field.click()\n",
    "print('Successfully logged in!')\n",
    "time.sleep(2)"
   ]
  },
  {
   "attachments": {},
   "cell_type": "markdown",
   "metadata": {},
   "source": [
    "# Step 2: Search for the profile we want to scrape"
   ]
  },
  {
   "cell_type": "code",
   "execution_count": 91,
   "metadata": {},
   "outputs": [
    {
     "ename": "NoSuchElementException",
     "evalue": "Message: no such element: Unable to locate element: {\"method\":\"xpath\",\"selector\":\"//*[@id=\"search-reusables__filters-bar\"]/ul/li[5]/button\"}\n  (Session info: MicrosoftEdge=110.0.1587.50)\nStacktrace:\nBacktrace:\n\tMicrosoft::Applications::Events::EventProperties::SetProperty [0x00007FF6ABCA48E2+14722]\n\tMicrosoft::Applications::Events::EventProperty::EventProperty [0x00007FF6ABC3B972+817410]\n\t(No symbol) [0x00007FF6AB8CDB50]\n\t(No symbol) [0x00007FF6AB910585]\n\t(No symbol) [0x00007FF6AB91070C]\n\t(No symbol) [0x00007FF6AB94C277]\n\t(No symbol) [0x00007FF6AB9306CF]\n\t(No symbol) [0x00007FF6AB903121]\n\t(No symbol) [0x00007FF6AB9496FE]\n\t(No symbol) [0x00007FF6AB930343]\n\t(No symbol) [0x00007FF6AB901FFC]\n\t(No symbol) [0x00007FF6AB900F7E]\n\t(No symbol) [0x00007FF6AB9027EE]\n\tMicrosoft::Applications::Events::EventProperties::SetProperty [0x00007FF6ABB1F580+181072]\n\t(No symbol) [0x00007FF6AB9D07F7]\n\tMicrosoft::Applications::Events::EventProperty::EventProperty [0x00007FF6ABB80252+49634]\n\tMicrosoft::Applications::Events::EventProperty::EventProperty [0x00007FF6ABB83455+62437]\n\tMicrosoft::Applications::Events::ILogManager::DispatchEventBroadcast [0x00007FF6ABE92018+1407928]\n\tMicrosoft::Applications::Events::EventProperty::EventProperty [0x00007FF6ABC43E7F+851471]\n\tMicrosoft::Applications::Events::EventProperty::EventProperty [0x00007FF6ABC48EE4+872052]\n\tMicrosoft::Applications::Events::EventProperty::EventProperty [0x00007FF6ABC4903C+872396]\n\tMicrosoft::Applications::Events::EventProperty::EventProperty [0x00007FF6ABC5134B+905947]\n\tBaseThreadInitThunk [0x00007FFD079A26BD+29]\n\tRtlUserThreadStart [0x00007FFD08DADFB8+40]\n",
     "output_type": "error",
     "traceback": [
      "\u001b[1;31m---------------------------------------------------------------------------\u001b[0m",
      "\u001b[1;31mNoSuchElementException\u001b[0m                    Traceback (most recent call last)",
      "Cell \u001b[1;32mIn [91], line 17\u001b[0m\n\u001b[0;32m     15\u001b[0m \u001b[39m# Search\u001b[39;00m\n\u001b[0;32m     16\u001b[0m search_field\u001b[39m.\u001b[39msend_keys(Keys\u001b[39m.\u001b[39mENTER)\n\u001b[1;32m---> 17\u001b[0m choose_people \u001b[39m=\u001b[39m driver\u001b[39m.\u001b[39;49mfind_element(By\u001b[39m.\u001b[39;49mXPATH,\u001b[39m'\u001b[39;49m\u001b[39m//*[@id=\u001b[39;49m\u001b[39m\"\u001b[39;49m\u001b[39msearch-reusables__filters-bar\u001b[39;49m\u001b[39m\"\u001b[39;49m\u001b[39m]/ul/li[5]/button\u001b[39;49m\u001b[39m'\u001b[39;49m)\n\u001b[0;32m     18\u001b[0m choose_people\u001b[39m.\u001b[39mclick()\n",
      "File \u001b[1;32mc:\\Users\\Salhi\\AppData\\Local\\Programs\\Python\\Python310\\lib\\site-packages\\selenium\\webdriver\\remote\\webdriver.py:861\u001b[0m, in \u001b[0;36mWebDriver.find_element\u001b[1;34m(self, by, value)\u001b[0m\n\u001b[0;32m    858\u001b[0m     by \u001b[39m=\u001b[39m By\u001b[39m.\u001b[39mCSS_SELECTOR\n\u001b[0;32m    859\u001b[0m     value \u001b[39m=\u001b[39m \u001b[39m'\u001b[39m\u001b[39m[name=\u001b[39m\u001b[39m\"\u001b[39m\u001b[39m%s\u001b[39;00m\u001b[39m\"\u001b[39m\u001b[39m]\u001b[39m\u001b[39m'\u001b[39m \u001b[39m%\u001b[39m value\n\u001b[1;32m--> 861\u001b[0m \u001b[39mreturn\u001b[39;00m \u001b[39mself\u001b[39;49m\u001b[39m.\u001b[39;49mexecute(Command\u001b[39m.\u001b[39;49mFIND_ELEMENT, {\u001b[39m\"\u001b[39;49m\u001b[39musing\u001b[39;49m\u001b[39m\"\u001b[39;49m: by, \u001b[39m\"\u001b[39;49m\u001b[39mvalue\u001b[39;49m\u001b[39m\"\u001b[39;49m: value})[\u001b[39m\"\u001b[39m\u001b[39mvalue\u001b[39m\u001b[39m\"\u001b[39m]\n",
      "File \u001b[1;32mc:\\Users\\Salhi\\AppData\\Local\\Programs\\Python\\Python310\\lib\\site-packages\\selenium\\webdriver\\remote\\webdriver.py:444\u001b[0m, in \u001b[0;36mWebDriver.execute\u001b[1;34m(self, driver_command, params)\u001b[0m\n\u001b[0;32m    442\u001b[0m response \u001b[39m=\u001b[39m \u001b[39mself\u001b[39m\u001b[39m.\u001b[39mcommand_executor\u001b[39m.\u001b[39mexecute(driver_command, params)\n\u001b[0;32m    443\u001b[0m \u001b[39mif\u001b[39;00m response:\n\u001b[1;32m--> 444\u001b[0m     \u001b[39mself\u001b[39;49m\u001b[39m.\u001b[39;49merror_handler\u001b[39m.\u001b[39;49mcheck_response(response)\n\u001b[0;32m    445\u001b[0m     response[\u001b[39m\"\u001b[39m\u001b[39mvalue\u001b[39m\u001b[39m\"\u001b[39m] \u001b[39m=\u001b[39m \u001b[39mself\u001b[39m\u001b[39m.\u001b[39m_unwrap_value(response\u001b[39m.\u001b[39mget(\u001b[39m\"\u001b[39m\u001b[39mvalue\u001b[39m\u001b[39m\"\u001b[39m, \u001b[39mNone\u001b[39;00m))\n\u001b[0;32m    446\u001b[0m     \u001b[39mreturn\u001b[39;00m response\n",
      "File \u001b[1;32mc:\\Users\\Salhi\\AppData\\Local\\Programs\\Python\\Python310\\lib\\site-packages\\selenium\\webdriver\\remote\\errorhandler.py:249\u001b[0m, in \u001b[0;36mErrorHandler.check_response\u001b[1;34m(self, response)\u001b[0m\n\u001b[0;32m    247\u001b[0m         alert_text \u001b[39m=\u001b[39m value[\u001b[39m\"\u001b[39m\u001b[39malert\u001b[39m\u001b[39m\"\u001b[39m]\u001b[39m.\u001b[39mget(\u001b[39m\"\u001b[39m\u001b[39mtext\u001b[39m\u001b[39m\"\u001b[39m)\n\u001b[0;32m    248\u001b[0m     \u001b[39mraise\u001b[39;00m exception_class(message, screen, stacktrace, alert_text)  \u001b[39m# type: ignore[call-arg]  # mypy is not smart enough here\u001b[39;00m\n\u001b[1;32m--> 249\u001b[0m \u001b[39mraise\u001b[39;00m exception_class(message, screen, stacktrace)\n",
      "\u001b[1;31mNoSuchElementException\u001b[0m: Message: no such element: Unable to locate element: {\"method\":\"xpath\",\"selector\":\"//*[@id=\"search-reusables__filters-bar\"]/ul/li[5]/button\"}\n  (Session info: MicrosoftEdge=110.0.1587.50)\nStacktrace:\nBacktrace:\n\tMicrosoft::Applications::Events::EventProperties::SetProperty [0x00007FF6ABCA48E2+14722]\n\tMicrosoft::Applications::Events::EventProperty::EventProperty [0x00007FF6ABC3B972+817410]\n\t(No symbol) [0x00007FF6AB8CDB50]\n\t(No symbol) [0x00007FF6AB910585]\n\t(No symbol) [0x00007FF6AB91070C]\n\t(No symbol) [0x00007FF6AB94C277]\n\t(No symbol) [0x00007FF6AB9306CF]\n\t(No symbol) [0x00007FF6AB903121]\n\t(No symbol) [0x00007FF6AB9496FE]\n\t(No symbol) [0x00007FF6AB930343]\n\t(No symbol) [0x00007FF6AB901FFC]\n\t(No symbol) [0x00007FF6AB900F7E]\n\t(No symbol) [0x00007FF6AB9027EE]\n\tMicrosoft::Applications::Events::EventProperties::SetProperty [0x00007FF6ABB1F580+181072]\n\t(No symbol) [0x00007FF6AB9D07F7]\n\tMicrosoft::Applications::Events::EventProperty::EventProperty [0x00007FF6ABB80252+49634]\n\tMicrosoft::Applications::Events::EventProperty::EventProperty [0x00007FF6ABB83455+62437]\n\tMicrosoft::Applications::Events::ILogManager::DispatchEventBroadcast [0x00007FF6ABE92018+1407928]\n\tMicrosoft::Applications::Events::EventProperty::EventProperty [0x00007FF6ABC43E7F+851471]\n\tMicrosoft::Applications::Events::EventProperty::EventProperty [0x00007FF6ABC48EE4+872052]\n\tMicrosoft::Applications::Events::EventProperty::EventProperty [0x00007FF6ABC4903C+872396]\n\tMicrosoft::Applications::Events::EventProperty::EventProperty [0x00007FF6ABC5134B+905947]\n\tBaseThreadInitThunk [0x00007FFD079A26BD+29]\n\tRtlUserThreadStart [0x00007FFD08DADFB8+40]\n"
     ]
    }
   ],
   "source": [
    "# Locate the search bar element\n",
    "try:\n",
    "    search_button_mini = driver.find_element(By.XPATH,'//*[@id=\"global-nav-search\"]/div/button')\n",
    "    search_button_mini.click()\n",
    "    time.sleep(1.5)\n",
    "except:\n",
    "    time.sleep(0.1)\n",
    "\n",
    "# Input the search query to the search bar\n",
    "search_field = driver.find_element(By.XPATH,'//*[@id=\"global-nav-typeahead\"]/input')\n",
    "search_query = input('What type of profile do you want to scrape?')\n",
    "search_field.send_keys(search_query)\n",
    "time.sleep(1)\n",
    " \n",
    "# Search\n",
    "search_field.send_keys(Keys.ENTER)\n",
    "choose_people = driver.find_element(By.XPATH,'//*[@id=\"search-reusables__filters-bar\"]/ul/li[5]/button')\n",
    "choose_people.click()"
   ]
  },
  {
   "cell_type": "code",
   "execution_count": null,
   "metadata": {},
   "outputs": [],
   "source": []
  }
 ],
 "metadata": {
  "kernelspec": {
   "display_name": "Python 3",
   "language": "python",
   "name": "python3"
  },
  "language_info": {
   "codemirror_mode": {
    "name": "ipython",
    "version": 3
   },
   "file_extension": ".py",
   "mimetype": "text/x-python",
   "name": "python",
   "nbconvert_exporter": "python",
   "pygments_lexer": "ipython3",
   "version": "3.10.7"
  },
  "orig_nbformat": 4,
  "vscode": {
   "interpreter": {
    "hash": "f4ccad92a19cc290665e10b2e63bd0eff5d3aa8feca05732615aaf4cf68253bf"
   }
  }
 },
 "nbformat": 4,
 "nbformat_minor": 2
}
