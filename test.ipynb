{
 "cells": [
  {
   "cell_type": "markdown",
   "metadata": {},
   "source": [
    "# Test 1"
   ]
  },
  {
   "cell_type": "code",
   "execution_count": 2,
   "metadata": {},
   "outputs": [
    {
     "name": "stdout",
     "output_type": "stream",
     "text": [
      "finished importing\n"
     ]
    }
   ],
   "source": [
    "# importing libraries and packages for this project\n",
    "\n",
    "from selenium import webdriver\n",
    "from selenium.webdriver.common.keys import Keys\n",
    "from selenium.webdriver.common.by import By\n",
    "import time\n",
    "\n",
    "print('finished importing')"
   ]
  },
  {
   "attachments": {},
   "cell_type": "markdown",
   "metadata": {},
   "source": [
    "# Step 1 : login to linkedin"
   ]
  },
  {
   "cell_type": "code",
   "execution_count": 3,
   "metadata": {},
   "outputs": [
    {
     "name": "stdout",
     "output_type": "stream",
     "text": [
      "Finished initializing a driver\n"
     ]
    }
   ],
   "source": [
    "# Access linkedin and login \n",
    "driver = webdriver.Edge()\n",
    "url = 'https://www.linkedin.com/login'\n",
    "driver.get(url)\n",
    "print('Finished initializing a driver')\n",
    "time.sleep(1)\n",
    "\n"
   ]
  },
  {
   "cell_type": "code",
   "execution_count": 4,
   "metadata": {},
   "outputs": [
    {
     "name": "stdout",
     "output_type": "stream",
     "text": [
      "Finished importing login credentials\n",
      "Finished entering email\n",
      "Finished entering password\n",
      "Successfully logged in!\n"
     ]
    }
   ],
   "source": [
    "# Import username and password\n",
    "credential = open('login_credential.txt')\n",
    "line = credential.readlines()\n",
    "username = line[0]\n",
    "password = line[1]\n",
    "print('Finished importing login credentials')\n",
    "\n",
    "# Enter your username\n",
    "email_field = driver.find_element(By.ID,'username').send_keys(username + Keys.ENTER)\n",
    "print('Finished entering email')\n",
    "time.sleep(2)\n",
    "\n",
    "# Enter your password\n",
    "password_field = driver.find_element(By.NAME,'session_password').send_keys(password)\n",
    "print('Finished entering password')\n",
    "time.sleep(1)\n",
    "\n",
    "# Click login button\n",
    "login_field = driver.find_element(By.XPATH,'//*[@id=\"organic-div\"]/form/div[3]/button[1]')\n",
    "login_field.click()\n",
    "print('Successfully logged in!')\n",
    "time.sleep(2)"
   ]
  },
  {
   "attachments": {},
   "cell_type": "markdown",
   "metadata": {},
   "source": [
    "# Step 3"
   ]
  },
  {
   "cell_type": "code",
   "execution_count": 9,
   "metadata": {},
   "outputs": [],
   "source": [
    "import urllib\n",
    "\n",
    "search_query ='data science'\n",
    "profile_to_find = urllib.parse.quote(search_query)\n",
    "\n",
    "url = 'https://www.linkedin.com/search/results/people/?keywords='+profile_to_find+'&origin=SWITCH_SEARCH_VERTICAL&page='\n",
    "\n",
    "number_of_pages=2\n",
    "\n",
    "\n"
   ]
  },
  {
   "cell_type": "code",
   "execution_count": 22,
   "metadata": {},
   "outputs": [
    {
     "name": "stdout",
     "output_type": "stream",
     "text": [
      "going to page 1\n",
      "going to page 2\n"
     ]
    }
   ],
   "source": [
    "import collections\n",
    "collections.Callable = collections.abc.Callable\n",
    "links=[]\n",
    "def extract_links(i):\n",
    "    url = 'https://www.linkedin.com/search/results/people/?keywords='+profile_to_find+'&origin=SWITCH_SEARCH_VERTICAL&page='+str(i)\n",
    "    driver.get(url)\n",
    "    time.sleep(1)\n",
    "    profiles = driver.find_elements(By.CLASS_NAME,'app-aware-link')\n",
    "    profile_links = []\n",
    "    for profile in profiles:\n",
    "        profile_links.append(profile.get_attribute(\"href\"))\n",
    "    for link in profile_links:\n",
    "        links.append(link)\n",
    "for i in range(1,number_of_pages+1):\n",
    "    time.sleep(4)\n",
    "    extract_links(i)\n",
    "    print('going to page '+str(i))\n",
    "l=set(links)\n",
    "\n",
    "file = open('links.txt','w')\n",
    "for item in l:\n",
    "    if ('www.linkedin.com/in/' in item):\n",
    "\t    file.write(item+\"\\n\")\n",
    "file.close()\n"
   ]
  }
 ],
 "metadata": {
  "kernelspec": {
   "display_name": "Python 3",
   "language": "python",
   "name": "python3"
  },
  "language_info": {
   "codemirror_mode": {
    "name": "ipython",
    "version": 3
   },
   "file_extension": ".py",
   "mimetype": "text/x-python",
   "name": "python",
   "nbconvert_exporter": "python",
   "pygments_lexer": "ipython3",
   "version": "3.10.7"
  },
  "orig_nbformat": 4,
  "vscode": {
   "interpreter": {
    "hash": "f4ccad92a19cc290665e10b2e63bd0eff5d3aa8feca05732615aaf4cf68253bf"
   }
  }
 },
 "nbformat": 4,
 "nbformat_minor": 2
}
